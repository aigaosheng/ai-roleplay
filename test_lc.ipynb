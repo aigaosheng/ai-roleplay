{
 "cells": [
  {
   "cell_type": "code",
   "execution_count": 29,
   "id": "68cbfccf-c811-493b-be2b-acd15c696632",
   "metadata": {
    "tags": []
   },
   "outputs": [
    {
     "name": "stdout",
     "output_type": "stream",
     "text": [
      "Sure, here's a step-by-step reasoning to understand why the sky appears blue:\n",
      "\n",
      "**1. Rayleigh Scattering**\n",
      "\n",
      "The sky appears blue due to a phenomenon called Rayleigh scattering. This scattering occurs when certain wavelengths of light, including blue light, are scattered more strongly than other colors.\n",
      "\n",
      "**2. Wavelength of Light**\n",
      "\n",
      "Light is composed of different wavelengths of colors, ranging from violet to red. Blue light has a shorter wavelength than other colors.\n",
      "\n",
      "**3. Scattering by Molecules**\n",
      "\n",
      "When blue light enters the atmosphere, it interacts with molecules of different gases, including nitrogen and oxygen. These molecules have different sizes and structures, which affect how they interact with light.\n",
      "\n",
      "**4. Blue Molecules Have Smaller Diameters**\n",
      "\n",
      "Blue light has a shorter wavelength and higher frequency compared to other colors. This means that blue light waves have more energy and can interact more effectively with the smaller and more abundant blue molecules.\n",
      "\n",
      "**5. Strong Scattering at Certain Angles**\n",
      "\n",
      "According to the laws of Rayleigh scattering, blue light has a higher scattering efficiency at certain specific angles of incidence. These angles are known as the Rayleigh scattering angle.\n",
      "\n",
      "**6. Blue Light Dominates**\n",
      "\n",
      "When sunlight enters the atmosphere, it predominantly travels through the lower atmosphere, where the concentration of blue-colored molecules is higher. This means that blue light has a greater chance of interacting with and scattering molecules.\n",
      "\n",
      "**7. Blue Sky Appearance**\n",
      "\n",
      "As a result of these interactions, blue light is scattered preferentially in all directions, producing a blue sky. This scattering effect is responsible for the blue color we perceive.\n",
      "\n",
      "Therefore, the blue sky appears blue due to Rayleigh scattering, where blue light is scattered more efficiently than other colors, giving the sky its characteristic blue color.\n"
     ]
    }
   ],
   "source": [
    "from langchain_community.llms import Ollama\n",
    "\n",
    "model_name = \"gemma:2b\"\n",
    "# model_name = \"llama2\"\n",
    "model = Ollama(model=model_name, temperature=1.0)\n",
    "\n",
    "print(model(msg))"
   ]
  },
  {
   "cell_type": "code",
   "execution_count": 27,
   "id": "b3a0ff6c-d93e-47d9-91d6-b08146815269",
   "metadata": {
    "tags": []
   },
   "outputs": [],
   "source": [
    "msg = \"\"\"\n",
    "<start_of_turn>user\n",
    "Think and write your step-by-step reasoning before responding.\n",
    " \n",
    "Explain why the sky is blue.<end_of_turn>\n",
    "<start_of_turn>model\n",
    "\"\"\""
   ]
  },
  {
   "cell_type": "code",
   "execution_count": 26,
   "id": "88edd322-a64e-4f6b-a106-37aaee99363b",
   "metadata": {
    "tags": []
   },
   "outputs": [
    {
     "data": {
      "text/plain": [
       "\"The sky is blue because the sunlight has to travel through a lot of air to reach our eyes. This scattering of light causes the sky to appear blue. It's like when you put a few drops of water on a piece of paper, it looks blue because light is scattered in different directions.\""
      ]
     },
     "execution_count": 26,
     "metadata": {},
     "output_type": "execute_result"
    }
   ],
   "source": [
    "from langchain_core.output_parsers import StrOutputParser\n",
    "from langchain_core.prompts import ChatPromptTemplate, PromptTemplate\n",
    "\n",
    "prompt = ChatPromptTemplate.from_template(msg)\n",
    "output_parser = StrOutputParser()\n",
    "\n",
    "chain = prompt | model | output_parser\n",
    "\n",
    "chain.invoke({})#{\"topic\": \"ice cream\"})"
   ]
  },
  {
   "cell_type": "code",
   "execution_count": 6,
   "id": "69c96040-9f8d-4858-9775-42b86743c6ba",
   "metadata": {
    "tags": []
   },
   "outputs": [
    {
     "name": "stdout",
     "output_type": "stream",
     "text": [
      " Sure! Here's a short ice cream-themed joke for you:\n",
      "\n",
      "Why did the ice cream cone go to the party?\n",
      "It wanted to have a sweet time! *** test"
     ]
    }
   ],
   "source": [
    "from langchain_core.runnables import chain\n",
    "from langchain_core.output_parsers import StrOutputParser\n",
    "from langchain_core.prompts import ChatPromptTemplate, PromptTemplate\n",
    "\n",
    "@chain\n",
    "def post(msg: str):\n",
    "    return msg + \" *** test\"\n",
    "prompt = PromptTemplate.from_template(\"tell me a short joke about {topic}, limited {num} woords\")\n",
    "output_parser = StrOutputParser()\n",
    "\n",
    "chain = prompt | model | output_parser | post\n",
    "\n",
    "# chain.invoke({\"topic\":\"ice cream\", \"num\": 10})\n",
    "async for chunk in chain.astream({\"topic\":\"ice cream\", \"num\": 100}):\n",
    "    print(chunk, end=\"\", flush=True)"
   ]
  },
  {
   "cell_type": "code",
   "execution_count": 39,
   "id": "7ac07481-aa20-4993-a5f5-4dee38370427",
   "metadata": {
    "tags": []
   },
   "outputs": [
    {
     "data": {
      "text/plain": [
       "'bears'"
      ]
     },
     "execution_count": 39,
     "metadata": {},
     "output_type": "execute_result"
    }
   ],
   "source": [
    "q={\"topic\": \"bears\", \"num\": 100}\n",
    "from operator import itemgetter\n",
    "itemgetter(\"topic\")(q)\n"
   ]
  },
  {
   "cell_type": "code",
   "execution_count": 28,
   "id": "7f7bd44a-169a-406f-a39d-29a25368ac2a",
   "metadata": {},
   "outputs": [],
   "source": [
    "# chain.get_graph().print_ascii()\n",
    "# chain.get_graph()\n",
    "from langchain_community.llms import Ollama\n",
    "from langchain_community.chat_models import ChatOllama\n",
    "\n",
    "llm = Ollama(model=\"llama2\")\n",
    "chat_model = ChatOllama()#model=\"gemma:2b\")"
   ]
  },
  {
   "cell_type": "code",
   "execution_count": 14,
   "id": "634ef7b4-48bb-4ab8-8a71-2c341ace7263",
   "metadata": {
    "tags": []
   },
   "outputs": [
    {
     "data": {
      "text/plain": [
       "'\\nHere are some ideas for a company name that makes colorful socks:\\n\\n1. SoleMates: This name plays on the idea of socks being a companion or \"mate\" for your feet, while also incorporating the word \"sole\" to reference the footwear aspect.\\n2. HueHue Footwear: This name is straightforward and fun, incorporating the word \"hue\" to suggest color and variety.\\n3. SockFancy: This name suggests a sense of luxury or indulgence, which could appeal to customers looking for high-quality, stylish socks.\\n4. ColorFiesta: This name conveys a sense of fun and excitement, which could be appealing to customers looking for socks that make a statement.\\n5. SockSpectrum: This name plays on the idea of a spectrum, suggesting a wide range of colors and styles available from the company.\\n6. Toes & Co.: This name is simple and memorable, with a playful nod to the idea of toes being the part of the foot that socks cover.\\n7. SockSation: This name incorporates the word \"station\" to suggest a destination or place where customers can find high-quality, fashionable socks.\\n8. FootFlair: This name suggests creativity and expression, which could be appealing to customers looking for socks that reflect their personal style.\\n9. SoleSplash: This name incorporates the word \"splash\" to suggest a burst of color or fun, which could be appealing to customers looking for something unique and eye-catching.\\n10. AnkleAntics: This name plays on the idea of mischief or fun, which could be appealing to customers looking for socks that add a bit of whimsy to their outfit.\\n\\nI hope these suggestions help inspire you as you come up with a name for your company!'"
      ]
     },
     "execution_count": 14,
     "metadata": {},
     "output_type": "execute_result"
    }
   ],
   "source": [
    "from langchain_core.messages import HumanMessage\n",
    "\n",
    "text = \"What would be a good company name for a company that makes colorful socks?\"\n",
    "messages = [HumanMessage(content=text)]\n",
    "\n",
    "llm.invoke(text)\n",
    "# >> Feetful of Fun\n",
    "\n",
    "chat_model.invoke(messages)\n",
    "# >> AIMessage(content=\"Socks O'Color\")"
   ]
  },
  {
   "cell_type": "code",
   "execution_count": 35,
   "id": "4c43951b-c5dd-4d8b-a3cf-cdf3231189ed",
   "metadata": {
    "tags": []
   },
   "outputs": [
    {
     "data": {
      "text/plain": [
       "('What is a good name for a company that makes colorful socks, aa?',\n",
       " PromptTemplate(input_variables=['a', 'product'], template='What is a good name for a company that makes {product}, {a}?'))"
      ]
     },
     "execution_count": 35,
     "metadata": {},
     "output_type": "execute_result"
    }
   ],
   "source": [
    "from langchain.prompts import PromptTemplate\n",
    "\n",
    "prompt = PromptTemplate.from_template(\"What is a good name for a company that makes {product}, {a}?\")\n",
    "prompt.format(product=\"colorful socks\", a=\"aa\"), prompt"
   ]
  },
  {
   "cell_type": "code",
   "execution_count": 36,
   "id": "d796e8eb-6577-4009-ad5d-8f99f3521660",
   "metadata": {
    "tags": []
   },
   "outputs": [
    {
     "data": {
      "text/plain": [
       "[SystemMessage(content='You are a helpful assistant that translates English to French.'),\n",
       " HumanMessage(content='I love programming.')]"
      ]
     },
     "execution_count": 36,
     "metadata": {},
     "output_type": "execute_result"
    }
   ],
   "source": [
    "from langchain.prompts.chat import ChatPromptTemplate\n",
    "\n",
    "template = \"You are a helpful assistant that translates {input_language} to {output_language}.\"\n",
    "human_template = \"{text}\"\n",
    "\n",
    "chat_prompt = ChatPromptTemplate.from_messages([\n",
    "    (\"system\", template),\n",
    "    (\"human\", human_template),\n",
    "])\n",
    "\n",
    "chat_prompt.format_messages(input_language=\"English\", output_language=\"French\", text=\"I love programming.\")"
   ]
  },
  {
   "cell_type": "code",
   "execution_count": 53,
   "id": "68b8a2be-8ecd-49d5-8c26-d63bdbfb4385",
   "metadata": {
    "tags": []
   },
   "outputs": [
    {
     "data": {
      "text/plain": [
       "['Of course! Here are 5 colors for you:\\n\\nRed',\n",
       " 'Blue',\n",
       " 'Green',\n",
       " 'Yellow',\n",
       " 'Purple.']"
      ]
     },
     "execution_count": 53,
     "metadata": {},
     "output_type": "execute_result"
    }
   ],
   "source": [
    "from langchain.output_parsers import CommaSeparatedListOutputParser\n",
    "\n",
    "output_parser = CommaSeparatedListOutputParser()\n",
    "# output_parser.parse(\"hi, bye\")\n",
    "# >> ['hi', 'bye']\n",
    "\n",
    "template = \"Generate a list of 5 {text}.\\n\\n{format_instructions}, {aa}\"\n",
    "\n",
    "chat_prompt = ChatPromptTemplate.from_template(template)\n",
    "chat_prompt = chat_prompt.partial(format_instructions=output_parser.get_format_instructions(),aa=output_parser.get_format_instructions())\n",
    "chain = chat_prompt | chat_model | output_parser\n",
    "chain.invoke({\"text\": \"colors\"})\n",
    "# >> ['red', 'blue', 'green', 'yellow', 'orange']"
   ]
  },
  {
   "cell_type": "code",
   "execution_count": 56,
   "id": "605c58d1-c3dc-4e8f-b764-4ee4f6393815",
   "metadata": {
    "tags": []
   },
   "outputs": [],
   "source": [
    "from langchain_core.prompts import ChatPromptTemplate\n",
    "\n",
    "chat_template = ChatPromptTemplate.from_messages(\n",
    "    [\n",
    "        (\"system\", \"You are a helpful AI bot. Your name is {name}.\"),\n",
    "        (\"human\", \"Hello, how are you doing?\"),\n",
    "        (\"ai\", \"I'm doing well, thanks!\"),\n",
    "        (\"human\", \"{user_input}, {name}\"),\n",
    "    ]\n",
    ")\n",
    "\n",
    "messages = chat_template.format_messages(name=\"Bob\", user_input=\"What is your name?\")"
   ]
  },
  {
   "cell_type": "code",
   "execution_count": 76,
   "id": "f49a9457-2b02-4571-ba65-1d81fe91d1fe",
   "metadata": {
    "tags": []
   },
   "outputs": [
    {
     "name": "stdout",
     "output_type": "stream",
     "text": [
      "Human: 2+2\n",
      "AI: 4\n",
      "Human: 2+3\n",
      "AI: 5\n"
     ]
    },
    {
     "data": {
      "text/plain": [
       "'As a wondrous wizard of math, I have an infinite supply of numbers and operations at my fingertips.\\n\\n**2+2 = 4**\\n**2+3 = 5**\\n**21+10 = 31**'"
      ]
     },
     "execution_count": 76,
     "metadata": {},
     "output_type": "execute_result"
    }
   ],
   "source": [
    "from langchain.prompts import (\n",
    "    ChatPromptTemplate,\n",
    "    FewShotChatMessagePromptTemplate,\n",
    ")\n",
    "examples = [\n",
    "    {\"input\": \"2+2\", \"output\": \"4\"},\n",
    "    {\"input\": \"2+3\", \"output\": \"5\"},\n",
    "]\n",
    "# This is a prompt template used to format each individual example.\n",
    "example_prompt = ChatPromptTemplate.from_messages(\n",
    "    [\n",
    "        (\"human\", \"{input}\"),\n",
    "        (\"ai\", \"{output}\"),\n",
    "    ]\n",
    ")\n",
    "few_shot_prompt = FewShotChatMessagePromptTemplate(\n",
    "    example_prompt=example_prompt,\n",
    "    examples=examples,\n",
    ")\n",
    "\n",
    "print(few_shot_prompt.format())\n",
    "\n",
    "final_prompt = ChatPromptTemplate.from_messages(\n",
    "    [\n",
    "        (\"system\", \"You are a wondrous wizard of math.\"),\n",
    "        few_shot_prompt,\n",
    "        (\"human\", \"{input}\"),\n",
    "    ]\n",
    ")\n",
    "\n",
    "chain = final_prompt | model\n",
    "\n",
    "chain.invoke({\"input\": \"21+10\"})"
   ]
  },
  {
   "cell_type": "code",
   "execution_count": 86,
   "id": "86c27ed0-f615-4ac8-b8a6-d23288b7d536",
   "metadata": {
    "tags": []
   },
   "outputs": [
    {
     "data": {
      "text/plain": [
       "[HumanMessage(content='What is the best way to learn programming?'),\n",
       " AIMessage(content='1. Choose a programming language: Decide on a programming language that you want to learn.\\n\\n2. Start with the basics: Familiarize yourself with the basic programming concepts such as variables, data types and control structures.\\n\\n3. Practice, practice, practice: The best way to learn programming is through hands-on experience'),\n",
       " HumanMessage(content='Summarize our conversation so far in 10 words.')]"
      ]
     },
     "execution_count": 86,
     "metadata": {},
     "output_type": "execute_result"
    }
   ],
   "source": [
    "from langchain.prompts import (\n",
    "    ChatPromptTemplate,\n",
    "    HumanMessagePromptTemplate,\n",
    "    MessagesPlaceholder,\n",
    ")\n",
    "\n",
    "human_prompt = \"Summarize our conversation so far in {word_count} words.\"\n",
    "human_message_template = HumanMessagePromptTemplate.from_template(human_prompt)\n",
    "\n",
    "chat_prompt = ChatPromptTemplate.from_messages(\n",
    "    [MessagesPlaceholder(variable_name=\"conversation3\"), human_message_template]\n",
    ")\n",
    "\n",
    "from langchain_core.messages import AIMessage, HumanMessage\n",
    "\n",
    "human_message = HumanMessage(content=\"What is the best way to learn programming?\")\n",
    "ai_message = AIMessage(\n",
    "    content=\"\"\"\\\n",
    "1. Choose a programming language: Decide on a programming language that you want to learn.\n",
    "\n",
    "2. Start with the basics: Familiarize yourself with the basic programming concepts such as variables, data types and control structures.\n",
    "\n",
    "3. Practice, practice, practice: The best way to learn programming is through hands-on experience\\\n",
    "\"\"\"\n",
    ")\n",
    "\n",
    "chat_prompt.format_prompt(\n",
    "    conversation3=[human_message, ai_message], word_count=\"10\"\n",
    ").to_messages()\n",
    "\n"
   ]
  },
  {
   "cell_type": "code",
   "execution_count": 93,
   "id": "bb167bd7-d4f0-46e8-8db0-5e24b12bfca4",
   "metadata": {
    "tags": []
   },
   "outputs": [
    {
     "name": "stderr",
     "output_type": "stream",
     "text": [
      "/home/gs/miniconda3/envs/t2v/lib/python3.10/site-packages/langchain_core/_api/deprecation.py:117: LangChainDeprecationWarning: The function `predict` was deprecated in LangChain 0.1.7 and will be removed in 0.2.0. Use invoke instead.\n",
      "  warn_deprecated(\n"
     ]
    },
    {
     "name": "stdout",
     "output_type": "stream",
     "text": [
      "CPU times: user 8.88 ms, sys: 2.21 ms, total: 11.1 ms\n",
      "Wall time: 3.67 s\n"
     ]
    },
    {
     "data": {
      "text/plain": [
       "\"\\nSure, here's one:\\n\\nWhy don't scientists trust atoms?\\nBecause they make up everything!\""
      ]
     },
     "execution_count": 93,
     "metadata": {},
     "output_type": "execute_result"
    }
   ],
   "source": [
    "%%time\n",
    "from langchain.cache import InMemoryCache\n",
    "# <!-- ruff: noqa: F821 -->\n",
    "from langchain.globals import set_llm_cache\n",
    "\n",
    "set_llm_cache(InMemoryCache())\n",
    "\n",
    "# The first time, it is not yet in cache, so it should take longer\n",
    "llm.predict(\"Tell me a joke\")\n"
   ]
  },
  {
   "cell_type": "code",
   "execution_count": 16,
   "id": "37784f1c-7934-4124-a9ec-0f6883d03850",
   "metadata": {
    "tags": []
   },
   "outputs": [
    {
     "ename": "AttributeError",
     "evalue": "'str' object has no attribute 'content'",
     "output_type": "error",
     "traceback": [
      "\u001b[0;31m---------------------------------------------------------------------------\u001b[0m",
      "\u001b[0;31mAttributeError\u001b[0m                            Traceback (most recent call last)",
      "Cell \u001b[0;32mIn[16], line 31\u001b[0m\n\u001b[1;32m     29\u001b[0m chain \u001b[38;5;241m=\u001b[39m model \u001b[38;5;241m|\u001b[39m streaming_parse \u001b[38;5;66;03m#parse\u001b[39;00m\n\u001b[1;32m     30\u001b[0m \u001b[38;5;66;03m# chain.invoke(\"hello\")\u001b[39;00m\n\u001b[0;32m---> 31\u001b[0m \u001b[38;5;28;01mfor\u001b[39;00m chunk \u001b[38;5;129;01min\u001b[39;00m chain\u001b[38;5;241m.\u001b[39mstream(\u001b[38;5;124m\"\u001b[39m\u001b[38;5;124mtell me about yourself in one sentence\u001b[39m\u001b[38;5;124m\"\u001b[39m):\n\u001b[1;32m     32\u001b[0m     \u001b[38;5;28mprint\u001b[39m(chunk, end\u001b[38;5;241m=\u001b[39m\u001b[38;5;124m\"\u001b[39m\u001b[38;5;124m|\u001b[39m\u001b[38;5;124m\"\u001b[39m, flush\u001b[38;5;241m=\u001b[39m\u001b[38;5;28;01mTrue\u001b[39;00m)\n",
      "File \u001b[0;32m~/miniconda3/envs/t2v/lib/python3.10/site-packages/langchain_core/runnables/base.py:2875\u001b[0m, in \u001b[0;36mRunnableSequence.stream\u001b[0;34m(self, input, config, **kwargs)\u001b[0m\n\u001b[1;32m   2869\u001b[0m \u001b[38;5;28;01mdef\u001b[39;00m \u001b[38;5;21mstream\u001b[39m(\n\u001b[1;32m   2870\u001b[0m     \u001b[38;5;28mself\u001b[39m,\n\u001b[1;32m   2871\u001b[0m     \u001b[38;5;28minput\u001b[39m: Input,\n\u001b[1;32m   2872\u001b[0m     config: Optional[RunnableConfig] \u001b[38;5;241m=\u001b[39m \u001b[38;5;28;01mNone\u001b[39;00m,\n\u001b[1;32m   2873\u001b[0m     \u001b[38;5;241m*\u001b[39m\u001b[38;5;241m*\u001b[39mkwargs: Optional[Any],\n\u001b[1;32m   2874\u001b[0m ) \u001b[38;5;241m-\u001b[39m\u001b[38;5;241m>\u001b[39m Iterator[Output]:\n\u001b[0;32m-> 2875\u001b[0m     \u001b[38;5;28;01myield from\u001b[39;00m \u001b[38;5;28mself\u001b[39m\u001b[38;5;241m.\u001b[39mtransform(\u001b[38;5;28miter\u001b[39m([\u001b[38;5;28minput\u001b[39m]), config, \u001b[38;5;241m*\u001b[39m\u001b[38;5;241m*\u001b[39mkwargs)\n",
      "File \u001b[0;32m~/miniconda3/envs/t2v/lib/python3.10/site-packages/langchain_core/runnables/base.py:2862\u001b[0m, in \u001b[0;36mRunnableSequence.transform\u001b[0;34m(self, input, config, **kwargs)\u001b[0m\n\u001b[1;32m   2856\u001b[0m \u001b[38;5;28;01mdef\u001b[39;00m \u001b[38;5;21mtransform\u001b[39m(\n\u001b[1;32m   2857\u001b[0m     \u001b[38;5;28mself\u001b[39m,\n\u001b[1;32m   2858\u001b[0m     \u001b[38;5;28minput\u001b[39m: Iterator[Input],\n\u001b[1;32m   2859\u001b[0m     config: Optional[RunnableConfig] \u001b[38;5;241m=\u001b[39m \u001b[38;5;28;01mNone\u001b[39;00m,\n\u001b[1;32m   2860\u001b[0m     \u001b[38;5;241m*\u001b[39m\u001b[38;5;241m*\u001b[39mkwargs: Optional[Any],\n\u001b[1;32m   2861\u001b[0m ) \u001b[38;5;241m-\u001b[39m\u001b[38;5;241m>\u001b[39m Iterator[Output]:\n\u001b[0;32m-> 2862\u001b[0m     \u001b[38;5;28;01myield from\u001b[39;00m \u001b[38;5;28mself\u001b[39m\u001b[38;5;241m.\u001b[39m_transform_stream_with_config(\n\u001b[1;32m   2863\u001b[0m         \u001b[38;5;28minput\u001b[39m,\n\u001b[1;32m   2864\u001b[0m         \u001b[38;5;28mself\u001b[39m\u001b[38;5;241m.\u001b[39m_transform,\n\u001b[1;32m   2865\u001b[0m         patch_config(config, run_name\u001b[38;5;241m=\u001b[39m(config \u001b[38;5;129;01mor\u001b[39;00m {})\u001b[38;5;241m.\u001b[39mget(\u001b[38;5;124m\"\u001b[39m\u001b[38;5;124mrun_name\u001b[39m\u001b[38;5;124m\"\u001b[39m) \u001b[38;5;129;01mor\u001b[39;00m \u001b[38;5;28mself\u001b[39m\u001b[38;5;241m.\u001b[39mname),\n\u001b[1;32m   2866\u001b[0m         \u001b[38;5;241m*\u001b[39m\u001b[38;5;241m*\u001b[39mkwargs,\n\u001b[1;32m   2867\u001b[0m     )\n",
      "File \u001b[0;32m~/miniconda3/envs/t2v/lib/python3.10/site-packages/langchain_core/runnables/base.py:1880\u001b[0m, in \u001b[0;36mRunnable._transform_stream_with_config\u001b[0;34m(self, input, transformer, config, run_type, **kwargs)\u001b[0m\n\u001b[1;32m   1878\u001b[0m \u001b[38;5;28;01mtry\u001b[39;00m:\n\u001b[1;32m   1879\u001b[0m     \u001b[38;5;28;01mwhile\u001b[39;00m \u001b[38;5;28;01mTrue\u001b[39;00m:\n\u001b[0;32m-> 1880\u001b[0m         chunk: Output \u001b[38;5;241m=\u001b[39m \u001b[43mcontext\u001b[49m\u001b[38;5;241;43m.\u001b[39;49m\u001b[43mrun\u001b[49m\u001b[43m(\u001b[49m\u001b[38;5;28;43mnext\u001b[39;49m\u001b[43m,\u001b[49m\u001b[43m \u001b[49m\u001b[43miterator\u001b[49m\u001b[43m)\u001b[49m  \u001b[38;5;66;03m# type: ignore\u001b[39;00m\n\u001b[1;32m   1881\u001b[0m         \u001b[38;5;28;01myield\u001b[39;00m chunk\n\u001b[1;32m   1882\u001b[0m         \u001b[38;5;28;01mif\u001b[39;00m final_output_supported:\n",
      "File \u001b[0;32m~/miniconda3/envs/t2v/lib/python3.10/site-packages/langchain_core/runnables/base.py:2826\u001b[0m, in \u001b[0;36mRunnableSequence._transform\u001b[0;34m(self, input, run_manager, config)\u001b[0m\n\u001b[1;32m   2817\u001b[0m \u001b[38;5;28;01mfor\u001b[39;00m step \u001b[38;5;129;01min\u001b[39;00m steps:\n\u001b[1;32m   2818\u001b[0m     final_pipeline \u001b[38;5;241m=\u001b[39m step\u001b[38;5;241m.\u001b[39mtransform(\n\u001b[1;32m   2819\u001b[0m         final_pipeline,\n\u001b[1;32m   2820\u001b[0m         patch_config(\n\u001b[0;32m   (...)\u001b[0m\n\u001b[1;32m   2823\u001b[0m         ),\n\u001b[1;32m   2824\u001b[0m     )\n\u001b[0;32m-> 2826\u001b[0m \u001b[38;5;28;01mfor\u001b[39;00m output \u001b[38;5;129;01min\u001b[39;00m final_pipeline:\n\u001b[1;32m   2827\u001b[0m     \u001b[38;5;28;01myield\u001b[39;00m output\n",
      "File \u001b[0;32m~/miniconda3/envs/t2v/lib/python3.10/site-packages/langchain_core/runnables/base.py:1880\u001b[0m, in \u001b[0;36mRunnable._transform_stream_with_config\u001b[0;34m(self, input, transformer, config, run_type, **kwargs)\u001b[0m\n\u001b[1;32m   1878\u001b[0m \u001b[38;5;28;01mtry\u001b[39;00m:\n\u001b[1;32m   1879\u001b[0m     \u001b[38;5;28;01mwhile\u001b[39;00m \u001b[38;5;28;01mTrue\u001b[39;00m:\n\u001b[0;32m-> 1880\u001b[0m         chunk: Output \u001b[38;5;241m=\u001b[39m \u001b[43mcontext\u001b[49m\u001b[38;5;241;43m.\u001b[39;49m\u001b[43mrun\u001b[49m\u001b[43m(\u001b[49m\u001b[38;5;28;43mnext\u001b[39;49m\u001b[43m,\u001b[49m\u001b[43m \u001b[49m\u001b[43miterator\u001b[49m\u001b[43m)\u001b[49m  \u001b[38;5;66;03m# type: ignore\u001b[39;00m\n\u001b[1;32m   1881\u001b[0m         \u001b[38;5;28;01myield\u001b[39;00m chunk\n\u001b[1;32m   1882\u001b[0m         \u001b[38;5;28;01mif\u001b[39;00m final_output_supported:\n",
      "Cell \u001b[0;32mIn[16], line 24\u001b[0m, in \u001b[0;36mstreaming_parse\u001b[0;34m(chunks)\u001b[0m\n\u001b[1;32m     19\u001b[0m \u001b[38;5;28;01mdef\u001b[39;00m \u001b[38;5;21mstreaming_parse\u001b[39m(chunks: Iterable[AIMessageChunk]) \u001b[38;5;241m-\u001b[39m\u001b[38;5;241m>\u001b[39m Iterable[\u001b[38;5;28mstr\u001b[39m]:\n\u001b[1;32m     21\u001b[0m     \u001b[38;5;28;01mfor\u001b[39;00m chunk \u001b[38;5;129;01min\u001b[39;00m chunks:\n\u001b[1;32m     22\u001b[0m         \u001b[38;5;66;03m# if isinstance(chunk, str):\u001b[39;00m\n\u001b[1;32m     23\u001b[0m         \u001b[38;5;66;03m#     chunk = AIMessage(content = chunk)        \u001b[39;00m\n\u001b[0;32m---> 24\u001b[0m         \u001b[38;5;28;01myield\u001b[39;00m \u001b[43mchunk\u001b[49m\u001b[38;5;241;43m.\u001b[39;49m\u001b[43mcontent\u001b[49m\u001b[38;5;241m.\u001b[39mswapcase()\n",
      "\u001b[0;31mAttributeError\u001b[0m: 'str' object has no attribute 'content'"
     ]
    }
   ],
   "source": [
    "from typing import Iterable\n",
    "\n",
    "# from langchain_anthropic.chat_models import ChatAnthropic\n",
    "from langchain_core.messages import AIMessage, AIMessageChunk\n",
    "\n",
    "# model = ChatAnthropic(model_name=\"claude-2.1\")\n",
    "\n",
    "\n",
    "def parse(ai_message: AIMessage) -> str:\n",
    "    \"\"\"Parse the AI message.\"\"\"\n",
    "    print(f\"** {type(ai_message)}\")\n",
    "    if isinstance(ai_message, str):\n",
    "        ai_message = AIMessage(content = ai_message)\n",
    "    return ai_message.content.swapcase()\n",
    "\n",
    "from langchain_core.runnables import RunnableGenerator\n",
    "\n",
    "\n",
    "def streaming_parse(chunks: Iterable[AIMessageChunk]) -> Iterable[str]:\n",
    "\n",
    "    for chunk in chunks:\n",
    "        if isinstance(chunk, str):\n",
    "            chunk = AIMessage(content = chunk)        \n",
    "        yield chunk.content.swapcase()\n",
    "\n",
    "\n",
    "streaming_parse = RunnableGenerator(streaming_parse)\n",
    "\n",
    "chain = model | streaming_parse #parse\n",
    "# chain.invoke(\"hello\")\n",
    "for chunk in chain.stream(\"tell me about yourself in one sentence\"):\n",
    "    print(chunk, end=\"|\", flush=True)"
   ]
  },
  {
   "cell_type": "code",
   "execution_count": 19,
   "id": "6fcbf352-c976-490f-b6bf-31e2a22173f4",
   "metadata": {
    "tags": []
   },
   "outputs": [
    {
     "name": "stdout",
     "output_type": "stream",
     "text": [
      "['Sure']\n",
      "['here is a list of five ice cream flavors:\\n\\n- Chocolate\\n- Vanilla\\n- Strawberry\\n- Banana\\n- Cherry']\n"
     ]
    }
   ],
   "source": [
    "from langchain.output_parsers import CommaSeparatedListOutputParser\n",
    "from langchain.prompts import PromptTemplate\n",
    "# from langchain_openai import ChatOpenAI\n",
    "\n",
    "output_parser = CommaSeparatedListOutputParser()\n",
    "\n",
    "format_instructions = output_parser.get_format_instructions()\n",
    "prompt = PromptTemplate(\n",
    "    template=\"List five {subject}.\\n{format_instructions}\",\n",
    "    input_variables=[\"subject\"],\n",
    "    partial_variables={\"format_instructions\": format_instructions},\n",
    ")\n",
    "\n",
    "# model = ChatOpenAI(temperature=0)\n",
    "\n",
    "chain = prompt | model | output_parser\n",
    "# chain.invoke({\"subject\": \"ice cream flavors\"})\n",
    "for s in chain.stream({\"subject\": \"ice cream flavors\"}):\n",
    "    print(s)"
   ]
  },
  {
   "cell_type": "code",
   "execution_count": 58,
   "id": "8b4396ad-c0ab-42d9-a0ca-6e53b8dafc94",
   "metadata": {
    "tags": []
   },
   "outputs": [
    {
     "name": "stdout",
     "output_type": "stream",
     "text": [
      "The datetime string for Bitcoin's founding is: 2008-04-17T16:44:00Z.\n"
     ]
    }
   ],
   "source": [
    "from langchain.output_parsers import DatetimeOutputParser\n",
    "from langchain.prompts import PromptTemplate\n",
    "# from langchain_openai import OpenAI\n",
    "\n",
    "output_parser = DatetimeOutputParser()\n",
    "template = \"\"\"Answer the users question:\n",
    "\n",
    "{question}\n",
    "\n",
    "{format_instructions}\"\"\"\n",
    "prompt = PromptTemplate.from_template(\n",
    "    template,\n",
    "    partial_variables={\"format_instructions\": output_parser.get_format_instructions()},\n",
    ")\n",
    "chain = prompt | model #| output_parser\n",
    "output = chain.invoke({\"question\": \"when was bitcoin founded?\"})\n",
    "print(output)"
   ]
  },
  {
   "cell_type": "code",
   "execution_count": 87,
   "id": "9090f055-9323-4489-bd47-f2350c338612",
   "metadata": {
    "tags": []
   },
   "outputs": [
    {
     "data": {
      "text/plain": [
       "{'answer': 'Paris', 'source': 'Wikipedia'}"
      ]
     },
     "execution_count": 87,
     "metadata": {},
     "output_type": "execute_result"
    }
   ],
   "source": [
    "from langchain.output_parsers import ResponseSchema, StructuredOutputParser\n",
    "from langchain.prompts import PromptTemplate\n",
    "# from langchain_openai import ChatOpenAI\n",
    "\n",
    "response_schemas = [\n",
    "    ResponseSchema(name=\"answer\", description=\"answer to the user's question\"),\n",
    "    ResponseSchema(\n",
    "        name=\"source\",\n",
    "        description=\"source used to answer the user's question, should be a website.\",\n",
    "    ),\n",
    "]\n",
    "output_parser = StructuredOutputParser.from_response_schemas(response_schemas)\n",
    "\n",
    "format_instructions = output_parser.get_format_instructions()\n",
    "prompt = PromptTemplate(\n",
    "    template=\"answer the users question as best as possible.\\n{format_instructions}\\n{question}\",\n",
    "    input_variables=[\"question\"],\n",
    "    partial_variables={\"format_instructions\": format_instructions},\n",
    ")\n",
    "# model = ChatOpenAI(temperature=0)\n",
    "chain = prompt | model  | output_parser\n",
    "\n",
    "chain.invoke({\"question\": \"what's the capital of france?\"})"
   ]
  },
  {
   "cell_type": "code",
   "execution_count": 6,
   "id": "29ad8ddc-d1af-49ff-94a9-37160aeb975b",
   "metadata": {
    "tags": []
   },
   "outputs": [
    {
     "ename": "AttributeError",
     "evalue": "'Ollama' object has no attribute 'bind_tools'",
     "output_type": "error",
     "traceback": [
      "\u001b[0;31m---------------------------------------------------------------------------\u001b[0m",
      "\u001b[0;31mAttributeError\u001b[0m                            Traceback (most recent call last)",
      "Cell \u001b[0;32mIn[6], line 32\u001b[0m\n\u001b[1;32m     19\u001b[0m \u001b[38;5;28;01mfrom\u001b[39;00m \u001b[38;5;21;01mlangchain_core\u001b[39;00m\u001b[38;5;21;01m.\u001b[39;00m\u001b[38;5;21;01mprompts\u001b[39;00m \u001b[38;5;28;01mimport\u001b[39;00m ChatPromptTemplate, MessagesPlaceholder\n\u001b[1;32m     21\u001b[0m prompt \u001b[38;5;241m=\u001b[39m ChatPromptTemplate\u001b[38;5;241m.\u001b[39mfrom_messages(\n\u001b[1;32m     22\u001b[0m     [\n\u001b[1;32m     23\u001b[0m         (\n\u001b[0;32m   (...)\u001b[0m\n\u001b[1;32m     29\u001b[0m     ]\n\u001b[1;32m     30\u001b[0m )\n\u001b[0;32m---> 32\u001b[0m llm_with_tools \u001b[38;5;241m=\u001b[39m \u001b[43mllm\u001b[49m\u001b[38;5;241;43m.\u001b[39;49m\u001b[43mbind_tools\u001b[49m(tools)\n",
      "\u001b[0;31mAttributeError\u001b[0m: 'Ollama' object has no attribute 'bind_tools'"
     ]
    }
   ],
   "source": [
    "from langchain_community.llms import Ollama\n",
    "\n",
    "model_name = \"gemma:2b\"\n",
    "# model_name = \"llama2\"\n",
    "llm = Ollama(model=model_name, temperature=0.0)\n",
    "\n",
    "from langchain.agents import tool\n",
    "\n",
    "\n",
    "@tool\n",
    "def get_word_length(word: str) -> int:\n",
    "    \"\"\"Returns the length of a word.\"\"\"\n",
    "    return len(word)\n",
    "\n",
    "\n",
    "get_word_length.invoke(\"abc\")\n",
    "tools = [get_word_length]\n",
    "\n",
    "from langchain_core.prompts import ChatPromptTemplate, MessagesPlaceholder\n",
    "\n",
    "prompt = ChatPromptTemplate.from_messages(\n",
    "    [\n",
    "        (\n",
    "            \"system\",\n",
    "            \"You are very powerful assistant, but don't know current events\",\n",
    "        ),\n",
    "        (\"user\", \"{input}\"),\n",
    "        MessagesPlaceholder(variable_name=\"agent_scratchpad\"),\n",
    "    ]\n",
    ")\n",
    "\n",
    "llm_with_tools = llm.bind_tools(tools)"
   ]
  },
  {
   "cell_type": "code",
   "execution_count": 11,
   "id": "fc4af246-0688-4356-bdda-28b95e7e431a",
   "metadata": {
    "tags": []
   },
   "outputs": [
    {
     "name": "stdout",
     "output_type": "stream",
     "text": [
      "https://www.motor1.com/features/629701/best-selling-trucks-2022/\n",
      "https://money.usnews.com/investing/articles/best-performing-stocks-of-the-year\n",
      "https://www.hangseng.com/en-hk/investment/market-express/top-movers/top-10-stocks/\n",
      "https://www.5paisa.com/share-market-today/stocks-to-buy-or-sell-today\n",
      "https://www.lendenclub.com/blog/10-best-shares-to-buy-today-for-long-term/\n"
     ]
    }
   ],
   "source": [
    "# Get the first 20 hits for: \"Breaking Code\" WordPress blog\n",
    "from googlesearch import search\n",
    "for url in search('Top-10 stock pickup', lang=\"id\", start=2, stop=5):\n",
    "    print(url)"
   ]
  },
  {
   "cell_type": "code",
   "execution_count": 16,
   "id": "920a28a6-3193-4f5e-ab6d-75f823f73e01",
   "metadata": {
    "tags": []
   },
   "outputs": [],
   "source": [
    "from sympy import *\n",
    "\n",
    "x = symbols('x')\n",
    "\n",
    "y = diff(sin(x)*exp(x), x)"
   ]
  },
  {
   "cell_type": "code",
   "execution_count": 8,
   "id": "248a1803-6d43-471c-af5d-afa0e37a1937",
   "metadata": {
    "tags": []
   },
   "outputs": [
    {
     "data": {
      "text/plain": [
       "'5.0'"
      ]
     },
     "execution_count": 8,
     "metadata": {},
     "output_type": "execute_result"
    }
   ],
   "source": [
    "import duckduckgo_search\n",
    "duckduckgo_search.__version__\n",
    "# import duckduckgo"
   ]
  },
  {
   "cell_type": "code",
   "execution_count": 10,
   "id": "fffb3778-faa8-415f-bc54-bb0ecdec72be",
   "metadata": {
    "tags": []
   },
   "outputs": [
    {
     "data": {
      "text/plain": [
       "'[snippet: Becoming\" is a memoir written by Michelle Obama, the former First Lady of the United States. It was published in November 2018. The book provides an intimate look into Obama\\'s life, from her childhood in Chicago to her years as a lawyer, mother, and ultimately, as the First Lady during Barack Obama\\'s presidency. Contents hide., title: Becoming Summary, Themes and Review, link: https://booksthatslay.com/becoming-summary-themes-and-review/], [snippet: Obama Was The Pioneer: Vietnamese cuisine is world-famous for its elegance, flavor, and relatively light-weight caloric nature. Former President Barack Obama and the late TV presenter-chef Anthony ..., title: Tim Cook In Vietnam: Can Apple CEO\\'s Visit To Iconic Cafe In Hanoi ..., link: https://www.benzinga.com/general/entertainment/24/04/38242896/tim-cook-in-vietnam-can-apple-ceos-visit-to-iconic-cafe-in-hanoi-replicate-obama-and-bourda], [snippet: PressReader. Catalog; For You; Chicago Tribune. Why further litigation is sadly necessary on Obama Presidenti\\xadal Center in Jackson Park 2024-04-15 - By Richard A. Epstein and Michael Rachlis . On April 8, the 7th U.S. Circuit Court of Appeals handed down its latest opinion that consciousl\\xady shielded from any judicial oversight the constructi\\xadon of the Obama Presidenti\\xadal Center in historic ..., title: Why further litigation is sadly necessary on Obama ... - PressReader, link: https://www.pressreader.com/usa/chicago-tribune/20240415/281621015376548], [snippet: FILE - Former President Donald Trump leaves Manhattan criminal court, Thursday, Feb. 15, 2024, in New York. The hush money trial of former President Donald Trump begins Monday, April 15, with jury ..., title: Trump\\'s History-Making Hush Money Trial Starts Monday With Jury Selection, link: https://www.usnews.com/news/politics/articles/2024-04-15/trumps-history-making-hush-money-trial-starts-monday-with-jury-selection]'"
      ]
     },
     "execution_count": 10,
     "metadata": {},
     "output_type": "execute_result"
    }
   ],
   "source": [
    "from langchain_community.tools import DuckDuckGoSearchRun\n",
    "from langchain_community.utilities import DuckDuckGoSearchAPIWrapper\n",
    "from langchain_community.tools import DuckDuckGoSearchResults\n",
    "\n",
    "wrapper = DuckDuckGoSearchAPIWrapper(region=\"de-de\", time=\"d\", max_results=5, backend = 'html')\n",
    "\n",
    "search = DuckDuckGoSearchResults(api_wrapper=wrapper, source=\"news\")\n",
    "search.run(\"Obama\")"
   ]
  },
  {
   "cell_type": "code",
   "execution_count": 18,
   "id": "b8fb5193-9a65-443f-b79e-fc9a69002d07",
   "metadata": {
    "tags": []
   },
   "outputs": [],
   "source": [
    "from langchain.embeddings import OllamaEmbeddings \n",
    "\n",
    "model_name = \"gemma:2b\"\n",
    "model_name = \"llama2\"\n",
    "\n",
    "embeddings_model = OllamaEmbeddings(model=model_name) #OpenAIEmbeddings()  \n",
    "d = embeddings_model.embed_query(\"hello\")\n"
   ]
  },
  {
   "cell_type": "code",
   "execution_count": 3,
   "id": "2f20de1d-f5ca-439b-843a-1d5916471407",
   "metadata": {
    "tags": []
   },
   "outputs": [
    {
     "name": "stdout",
     "output_type": "stream",
     "text": [
      "[{'title': 'New Cars, Used Cars, Car Dealers, Prices & Reviews | Cars.com', 'href': 'https://www.cars.com/', 'body': 'Find your dream car at Cars.com, the leading online marketplace for new and used cars. Compare models, shop electric cars, sell your car, and get financing options.'}, {'title': 'Cars for Sale - Used and New Cars, SUVs, and Trucks - Autotrader', 'href': 'https://www.autotrader.com/', 'body': 'Browse millions of cars, SUVs, and trucks for sale at Autotrader. Find your next car by budget, style, make, model, or features, and get car reviews, tips, and advice.'}, {'title': 'TrueCar | New & Used Cars for Sale | Car Pricing & Reviews', 'href': 'https://www.truecar.com/', 'body': 'What people are saying. \" @TrueCar seriously helped me with my car deal. Anyone looking to get a car should just use it. #lifesaver\". \"I researched and discovered my amazing 🚗 on @TrueCar, long before buying cars online was popular.\". \"TrueCar is awesome. Reduces all the annoying parts of the new car purchase.\".'}, {'title': 'Shop new and used cars online, and read expert car reviews | Edmunds', 'href': 'https://www.edmunds.com/', 'body': 'Edmunds helps you shop and sell cars with confidence. Find the best deals, compare vehicles, read reviews, appraise your trade-in value and more.'}, {'title': 'Used Cars for Sale - CarMax', 'href': 'https://www.carmax.com/cars', 'body': \"Find your next used car at CarMax, the nation's largest retailer of used cars. Browse by price, make, model, or location and read customer and expert reviews.\"}, {'title': 'Used Cars for Sale - Autotrader', 'href': 'https://www.autotrader.com/cars-for-sale', 'body': 'Find your next used car on Autotrader, the leading online marketplace for car buyers and sellers. Browse by make, model, price, location, style, and more.'}, {'title': 'Used Cars for Sale | with Free CARFAX', 'href': 'https://www.carfax.com/cars-for-sale', 'body': 'Follow Cars On the Go! Download the CARFAX App Today! Find the right car, truck, or SUV. Use our verified ratings and reviews to locate a reputable dealer near you with confidence! A FREE CARFAX report comes with every used car and truck for sale on Carfax.com. Start your search for 1-owner and accident-free cars to get a great deal.'}, {'title': 'Best Cars, Best Trucks, and Best SUVs | U.S. News & World Report', 'href': 'https://cars.usnews.com/', 'body': 'See what others have paid and get upfront pricing and guaranteed savings from certified dealers. We shopped around and used many different sites, but the U.S. News Best Price Program was by far the easiest and least time-consuming way to get the best deal on our new pickup. Kimberly P., Arlington, VA.'}, {'title': 'New Cars & New Car Prices | Kelley Blue Book', 'href': 'https://www.kbb.com/new-cars/', 'body': \"Shop for new cars and new car prices at Kelley Blue Book's KBB.com. Search and compare hundreds of new car vehicle categories and models.\"}, {'title': 'New Cars, Trucks, SUVs & Electric Cars | Cars.com', 'href': 'https://www.cars.com/new-cars/', 'body': 'Shop and learn about new cars, trucks, SUVs and EVs at cars.com. Find pricing, specs, incentives and inventory, or customize a new vehicle.'}, {'title': 'Cars For Sale - Used Cars For Sale - Used Cars - Carsforsale.com®', 'href': 'https://www.carsforsale.com/', 'body': 'Find millions of used cars for sale from thousands of auto dealers across the nation. Shop by make, model, body style, payment, price, condition and more on Carsforsale.com.'}, {'title': 'Compare Cars Side-by-Side - Car Comparison Tool | Edmunds', 'href': 'https://www.edmunds.com/car-comparisons/', 'body': 'Compare cars side by side to find the right vehicle for you. Compare car prices, expert and consumer ratings, features, warranties, fuel economy, incentives and more.'}, {'title': 'New Cars for Sale - Pricing and Deals | Edmunds', 'href': 'https://www.edmunds.com/new-cars/', 'body': 'Compare prices on the best new cars, trucks and SUVs for sale. Shop and buy top-rated new cars at Edmunds.com to get the latest deals, rebates, and incentives.'}, {'title': 'Car and Driver: New Car Reviews, Buying Advice and News', 'href': 'https://www.caranddriver.com/', 'body': \"Find the best cars, trucks, SUVs, EVs and hybrids for 2024 with Car and Driver's ratings, tests, features and guides. Explore the latest news, trends and tips on car care, maintenance and performance.\"}, {'title': 'New Cars, Trucks, SUVs and Vans: 2020-2022 Lineup - Car and Driver', 'href': 'https://www.caranddriver.com/new-cars/', 'body': 'Browse the latest models of new cars, trucks, SUVs and vans from various brands and categories. Find out the release dates, features, prices and reviews of the upcoming vehicles.'}, {'title': 'Disney Cars | Official Disney Site', 'href': 'https://cars.disney.com/', 'body': \"Explore the world of Disney and Pixar's Cars, featuring movies, series, characters, videos and products. Stream Cars on Disney+, watch Cars Toons, and shop for Cars merchandise.\"}, {'title': 'Car Research - Car Types, Models & Specs | Cars.com', 'href': 'https://www.cars.com/research/', 'body': 'Start the car buying process by researching vehicle types, models and specs, comparing popular models, and reading the latest car reviews.'}, {'title': 'CarDekho: New Cars, Car Prices, Buy & Sell Used Cars in India', 'href': 'https://www.cardekho.com/', 'body': 'Thinking of buying a car? At CarDekho.com, buy new and used cars, search by filter and preferences, compare cars, read latest news and updates, see 360 views & more!'}, {'title': 'Car Comparison Tool - Compare Cars Side by Side | Cars.com', 'href': 'https://www.cars.com/research/compare/', 'body': 'Hybrids/electric cars. 2024 Tesla Model Y vs. 2024 Ford Mustang Mach-E; 2024 Hyundai Ioniq 5 vs. 2024 Kia EV6; 2024 Tesla Model 3 vs. 2024 Polestar 2'}, {'title': 'Cars for sale in South Africa - AutoTrader', 'href': 'https://www.autotrader.co.za/', 'body': \"About AutoTrader. With thousands of new and used makes and models to choose from, AutoTrader is South Africa's trusted marketplace for buying and selling new and used cars, bakkies and SUVs. Our website makes buying and selling cars fast, intuitive and reliable. Buying your ideal car has never been easier.\"}, {'title': 'CarMax - Shop for used cars, then buy online or at a store', 'href': 'https://www.carmax.com/', 'body': 'or on the go. Download our app to save cars and create alerts, scan window stickers on our lot for more details, and even call dibs on a car by holding it for up to 7 days. Capital Boulevard. Search used cars, research vehicle models, and compare cars, all online at carmax.com.'}, {'title': 'Used Cars for Sale Near New York, NY | Cars.com', 'href': 'https://www.cars.com/shopping/new_york-ny/', 'body': 'Shop used vehicles in New York, NY for sale at Cars.com. Research, compare, and save listings, or contact sellers directly from 10,000+ vehicles in New York, NY.'}, {'title': 'Used Cars for Sale Near Houston, TX | Cars.com', 'href': 'https://www.cars.com/shopping/houston-tx/', 'body': 'Shop used vehicles in Houston, TX for sale at Cars.com. Research, compare, and save listings, or contact sellers directly from 10,000+ vehicles in Houston, TX.'}, {'title': 'Used Cars for Sale in Las Vegas, NV (with Photos) - CARFAX', 'href': 'https://www.carfax.com/Used-Cars-in-Las-Vegas-NV_c4843', 'body': 'Find the best used cars in Las Vegas, NV. Every used car for sale comes with a free CARFAX Report. We have 6,472 used cars in Las Vegas for sale that are reported accident free, 4,508 1-Owner cars, and 6,444 personal use cars.'}, {'title': 'Used Cars for Sale in Charleston, SC (with Photos) - CARFAX', 'href': 'https://www.carfax.com/Used-Cars-in-Charleston-SC_c6669', 'body': '50. Find the best used cars in Charleston, SC. Every used car for sale comes with a free CARFAX Report. We have 2,017 used cars in Charleston for sale that are reported accident free, 1,564 1-Owner cars, and 1,895 personal use cars.'}, {'title': 'Pixar Animation Studios', 'href': 'https://www.pixar.com/feature-films/cars', 'body': 'Cars as Characters. The filmmakers wanted the cars to look and feel authentic, so that the audience would relate to them as characters. A hotshot racecar was the early choice for lead character Lightning McQueen, and a rusty real-life tow truck found off Route 66 came to life as Mater. The Pixar team chose other cars to reflect people they had ...'}, {'title': 'Used Cars for Sale Near Richmond, VA | Cars.com', 'href': 'https://www.cars.com/shopping/richmond-va/', 'body': 'Shop used vehicles in Richmond, VA for sale at Cars.com. Research, compare, and save listings, or contact sellers directly from 3,946 vehicles in Richmond, VA.'}, {'title': 'Cars (franchise) - Wikipedia', 'href': 'https://en.wikipedia.org/wiki/Cars_(franchise)', 'body': 'Cars is an animated film series and Disney media franchise set in a world populated by anthropomorphic vehicles created by John Lasseter, Joe Ranft and Jorgen Klubien.The franchise began with the 2006 film, Cars, produced by Pixar and released by Walt Disney Pictures.The film was followed by Cars 2 in 2011. A third film, Cars 3, was released in 2017.The now-defunct Disneytoon Studios produced ...'}, {'title': 'Cars (2006) | Disney Cars', 'href': 'https://cars.disney.com/cars', 'body': 'Cars. Release Date: June 9, 2006. Hotshot rookie race car Lightning McQueen is living life in the fast lane until he hits a detour on his way to the most important race of his life. Stranded in Radiator Springs, a forgotten town on the old Route 66, he meets Sally, Mater, Doc Hudson and a variety of quirky characters who help him discover that ...'}, {'title': 'Used Cars for Sale Near Me in Orlando, FL - Autotrader', 'href': 'https://www.autotrader.com/cars-for-sale/orlando-fl', 'body': 'Get real-time updates when the price changes or when there are new matches for this search. Test drive Used Cars at home in Orlando, FL. Search from 20470 Used cars for sale, including a 2010 Toyota Highlander 2WD, a 2012 Chevrolet Camaro SS, and a 2017 Ford F250 XL ranging in price from $1,495 to $1,348,745.'}]\n"
     ]
    },
    {
     "data": {
      "text/plain": [
       "'5.3.0'"
      ]
     },
     "execution_count": 3,
     "metadata": {},
     "output_type": "execute_result"
    }
   ],
   "source": [
    "from duckduckgo_search import DDGS\n",
    "with DDGS() as ddgs:\n",
    "    results = ddgs.text(\"cars\", safesearch=\"off\", backend=\"api\",  max_results=30)\n",
    "    # results = DDGS().answers(\"sun\")\n",
    "\n",
    "    print(results)\n",
    "import duckduckgo_search\n",
    "duckduckgo_search.__version__\n",
    "    "
   ]
  },
  {
   "cell_type": "code",
   "execution_count": 6,
   "id": "79fb721b-d103-4437-a6a7-894dd7260735",
   "metadata": {
    "tags": []
   },
   "outputs": [],
   "source": [
    "import logging\n",
    "logging.basicConfig()\n",
    "x = logging.getLogger(\"langchain.retrievers.web_research\")"
   ]
  },
  {
   "cell_type": "code",
   "execution_count": 1,
   "id": "cb778bdd-e12e-4945-9804-49568385de7a",
   "metadata": {
    "tags": []
   },
   "outputs": [],
   "source": [
    "# Get the first 20 hits for: \"Breaking Code\" WordPress blog\n",
    "from langsmith import Client"
   ]
  },
  {
   "cell_type": "code",
   "execution_count": 2,
   "id": "91157aad-833d-4ddd-a98d-3d5d7546a7ae",
   "metadata": {
    "tags": []
   },
   "outputs": [
    {
     "name": "stdout",
     "output_type": "stream",
     "text": [
      "https://www.fool.com/investing/stock-market/types-of-stocks/international-stocks/\n",
      "https://www.lexology.com/library/detail.aspx?g=fb74417b-d4e3-47ec-aeed-72f3641b7ae0\n",
      "https://www.lexology.com/library/detail.aspx?g=c14bd45f-6bd5-42d8-a2b5-7d1a95cba9c1\n"
     ]
    }
   ],
   "source": [
    "# Get the first 20 hits for: \"Breaking Code\" WordPress blog\n",
    "from googlesearch import search\n",
    "# import googlesearch\n",
    "# search = lambda q: googlesearch.search(q, stop = 20)\n",
    "x = search('最好的中概股', stop=3)\n",
    "# from googlesearch import search\n",
    "# x = search(\"Google\",  advanced=True)\n",
    "\n",
    "for v in x:\n",
    "    print(v)\n",
    "    "
   ]
  }
 ],
 "metadata": {
  "kernelspec": {
   "display_name": "Python 3 (ipykernel)",
   "language": "python",
   "name": "python3"
  },
  "language_info": {
   "codemirror_mode": {
    "name": "ipython",
    "version": 3
   },
   "file_extension": ".py",
   "mimetype": "text/x-python",
   "name": "python",
   "nbconvert_exporter": "python",
   "pygments_lexer": "ipython3",
   "version": "3.10.13"
  }
 },
 "nbformat": 4,
 "nbformat_minor": 5
}
