{
 "cells": [
  {
   "cell_type": "code",
   "execution_count": 3,
   "id": "69fdd05b-8e38-4e74-a8f6-b45640736dea",
   "metadata": {
    "tags": []
   },
   "outputs": [],
   "source": [
    "import tempfile\n",
    "temp_dir = tempfile.TemporaryDirectory()\n"
   ]
  },
  {
   "cell_type": "code",
   "execution_count": 6,
   "id": "263c7624-2fbf-4500-a592-318595449011",
   "metadata": {
    "tags": []
   },
   "outputs": [
    {
     "name": "stdout",
     "output_type": "stream",
     "text": [
      "What a great question!\n",
      "\n",
      "The short answer is: because of science!\n",
      "\n",
      "In all seriousness, the sky appears blue to us because of a combination of factors involving light, atmosphere, and our perception. Here's a more detailed explanation:\n",
      "\n",
      "1. **Light from the Sun**: When sunlight enters Earth's atmosphere, it contains all the colors of the visible spectrum (red, orange, yellow, green, blue, indigo, and violet).\n",
      "2. **Atmospheric Scattering**: As this light travels through the atmosphere, it encounters tiny molecules of gases like nitrogen (N2) and oxygen (O2). These molecules scatter shorter wavelengths of light, like blue and violet, more efficiently than longer wavelengths, like red and orange.\n",
      "3. **Rayleigh Scattering**: The scattering effect is most pronounced for shorter wavelengths (like blue and violet) due to a phenomenon called Rayleigh scattering, named after the British physicist Lord Rayleigh. This is because smaller molecules are better at scattering shorter wavelengths.\n",
      "4. **Mie Scattering**: For longer wavelengths (like red and orange), the scattering is less effective due to Mie scattering, named after German physicist Gustav Mie. This is because larger particles, like dust and water droplets, are more efficient at scattering longer wavelengths.\n",
      "5. **Perception**: When we look up at the sky, our eyes perceive the combined effect of scattered light as a blue color. The exact shade of blue can vary depending on factors like atmospheric conditions, pollution levels, and time of day.\n",
      "\n",
      "So, to summarize: the sky appears blue because the shorter wavelengths of sunlight are scattered more efficiently by tiny molecules in the atmosphere, while longer wavelengths are scattered less effectively, resulting in our perception of a blue color.\n"
     ]
    }
   ],
   "source": [
    "from langchain_community.llms import Ollama\n",
    "llm = Ollama(model=\"llama3:instruct\", stop = [\n",
    "        \"<|start_header_id|>\",\n",
    "        \"<|end_header_id|>\",\n",
    "        \"<|eot_id|>\",\n",
    "        \"<|reserved_special_token\"\n",
    "    ], \n",
    "    temperature = 0.0)\n",
    "print(llm.invoke(\"Why is the sky blue?\"))\n",
    "llm = Ollama(model=\"llama3:instruct\", \n",
    "    temperature = 0.0)\n",
    "print(\"****\")\n",
    "print(llm.invoke(\"Why is the sky blue?\"))\n",
    "\n",
    "# import ollama\n",
    "# response = ollama.chat(model='llama3:instruct', messages=[\n",
    "#   {\n",
    "#     'role': 'user',\n",
    "#     'content': 'Why is the sky blue?',\n",
    "#   },\n",
    "# ])\n",
    "# print(response['message']['content'])\n"
   ]
  }
 ],
 "metadata": {
  "kernelspec": {
   "display_name": "Python 3 (ipykernel)",
   "language": "python",
   "name": "python3"
  },
  "language_info": {
   "codemirror_mode": {
    "name": "ipython",
    "version": 3
   },
   "file_extension": ".py",
   "mimetype": "text/x-python",
   "name": "python",
   "nbconvert_exporter": "python",
   "pygments_lexer": "ipython3",
   "version": "3.10.13"
  }
 },
 "nbformat": 4,
 "nbformat_minor": 5
}
